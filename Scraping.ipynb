{
  "nbformat": 4,
  "nbformat_minor": 0,
  "metadata": {
    "colab": {
      "provenance": [],
      "authorship_tag": "ABX9TyPgfh2zqDpyKxaCt8ODiQNZ",
      "include_colab_link": true
    },
    "kernelspec": {
      "name": "python3",
      "display_name": "Python 3"
    },
    "language_info": {
      "name": "python"
    }
  },
  "cells": [
    {
      "cell_type": "markdown",
      "metadata": {
        "id": "view-in-github",
        "colab_type": "text"
      },
      "source": [
        "<a href=\"https://colab.research.google.com/github/abdelkadermiladi/WebScraping/blob/main/Scraping.ipynb\" target=\"_parent\"><img src=\"https://colab.research.google.com/assets/colab-badge.svg\" alt=\"Open In Colab\"/></a>"
      ]
    },
    {
      "cell_type": "markdown",
      "source": [
        "\n",
        "# Extraire toutes les images d'une page web donnée."
      ],
      "metadata": {
        "id": "CRurxIEPMuG4"
      }
    },
    {
      "cell_type": "code",
      "execution_count": 1,
      "metadata": {
        "id": "CE_Zln9QJ8Nc"
      },
      "outputs": [],
      "source": [
        "import requests\n",
        "from bs4 import BeautifulSoup\n",
        "from urllib.parse import urljoin"
      ]
    },
    {
      "cell_type": "code",
      "source": [
        "def extract_and_save_images(url, directory):\n",
        "  # Télécharger le contenu de la page web\n",
        "  response = requests.get(url)\n",
        "  # Créer un objet BeautifulSoup à partir de la réponse\n",
        "  soup = BeautifulSoup(response.text, \"html.parser\")\n",
        "  # Trouver toutes les balises <img> de la page\n",
        "  images = soup.find_all(\"img\")\n",
        "  # Enregistrer chaque image\n",
        "  for image in images:\n",
        "    # Construire une URL complète à partir de l'URL de la page et de l'URL de l'image\n",
        "    complete_url = urljoin(url, image[\"src\"])\n",
        "    # Télécharger l'image à partir de son URL\n",
        "    response = requests.get(complete_url)\n",
        "    # Extraire le nom de fichier de l'URL de l'image\n",
        "    file_name = complete_url.split(\"/\")[-1]\n",
        "    # Enregistrer l'image dans le répertoire donné\n",
        "    with open(f\"{directory}/{file_name}\", \"wb\") as f:\n",
        "      f.write(response.content)"
      ],
      "metadata": {
        "id": "99x60GCRKSra"
      },
      "execution_count": 2,
      "outputs": []
    },
    {
      "cell_type": "code",
      "source": [
        "# Demander à l'utilisateur de saisir l'URL de la page web et le répertoire de destination\n",
        "url = input(\"Entrez l'URL de la page web :\")\n",
        "directory = input(\"Entrez le répertoire de destination :\")\n",
        "# Appeler la fonction pour extraire et enregistrer les images de la page\n",
        "extract_and_save_images(url, directory)\n",
        "\n",
        "print(\"Images bien enregistrées dans le répertoire de destination\")"
      ],
      "metadata": {
        "colab": {
          "base_uri": "https://localhost:8080/"
        },
        "id": "0Xrqw6afKcA5",
        "outputId": "71693345-f34b-43b8-e148-553a11151ad0"
      },
      "execution_count": 4,
      "outputs": [
        {
          "output_type": "stream",
          "name": "stdout",
          "text": [
            "Entrez l'URL de la page web :https://fr.wikipedia.org/wiki/%C3%89cole_sup%C3%A9rieure_des_communications_de_Tunis\n",
            "Entrez le répertoire de destination :/content/Images\n",
            "Images bien enregistrés dans le repertoire de destination\n"
          ]
        }
      ]
    },
    {
      "cell_type": "code",
      "source": [],
      "metadata": {
        "id": "oBYcTAKmKgwz"
      },
      "execution_count": null,
      "outputs": []
    }
  ]
}