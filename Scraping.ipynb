{
  "nbformat": 4,
  "nbformat_minor": 0,
  "metadata": {
    "colab": {
      "provenance": [],
      "authorship_tag": "ABX9TyML7aOrwTue+zr010ozBynC",
      "include_colab_link": true
    },
    "kernelspec": {
      "name": "python3",
      "display_name": "Python 3"
    },
    "language_info": {
      "name": "python"
    }
  },
  "cells": [
    {
      "cell_type": "markdown",
      "metadata": {
        "id": "view-in-github",
        "colab_type": "text"
      },
      "source": [
        "<a href=\"https://colab.research.google.com/github/abdelkadermiladi/WebScraping/blob/main/Scraping.ipynb\" target=\"_parent\"><img src=\"https://colab.research.google.com/assets/colab-badge.svg\" alt=\"Open In Colab\"/></a>"
      ]
    },
    {
      "cell_type": "markdown",
      "source": [
        "\n",
        "# Extraire toutes les images d'une page web donnée."
      ],
      "metadata": {
        "id": "CRurxIEPMuG4"
      }
    },
    {
      "cell_type": "code",
      "execution_count": 5,
      "metadata": {
        "id": "CE_Zln9QJ8Nc"
      },
      "outputs": [],
      "source": [
        "import requests\n",
        "from bs4 import BeautifulSoup\n",
        "from urllib.parse import urljoin"
      ]
    },
    {
      "cell_type": "code",
      "source": [
        "def extract_and_save_images(url, directory):\n",
        "  # Download the content of the web page\n",
        "  response = requests.get(url)\n",
        "  # Create a BeautifulSoup object from the response\n",
        "  soup = BeautifulSoup(response.text, \"html.parser\")\n",
        "  # Find all <img> tags on the page\n",
        "  images = soup.find_all(\"img\")\n",
        "  # Save each image\n",
        "  for image in images:\n",
        "    # Build a complete URL from the page URL and the image URL\n",
        "    complete_url = urljoin(url, image[\"src\"])\n",
        "    # Download the image from its URL\n",
        "    response = requests.get(complete_url)\n",
        "    #  Extract the file name from the image's URL\n",
        "    file_name = complete_url.split(\"/\")[-1]\n",
        "    # Save the image in the given directory\n",
        "    with open(f\"{directory}/{file_name}\", \"wb\") as f:\n",
        "      f.write(response.content)"
      ],
      "metadata": {
        "id": "99x60GCRKSra"
      },
      "execution_count": 7,
      "outputs": []
    },
    {
      "cell_type": "code",
      "source": [
        "url = input(\"enter the URL of the web page :\")\n",
        "directory = input(\"Enter the destination directory :\")\n",
        "# Call the function\n",
        "extract_and_save_images(url, directory)\n",
        "\n",
        "print(\"Images successfully saved in the destination directory\")"
      ],
      "metadata": {
        "colab": {
          "base_uri": "https://localhost:8080/"
        },
        "id": "0Xrqw6afKcA5",
        "outputId": "8eb66447-19e9-4dd5-f1f9-cf7e6f23ff1c"
      },
      "execution_count": 8,
      "outputs": [
        {
          "output_type": "stream",
          "name": "stdout",
          "text": [
            "enter the URL of the web page :https://fr.wikipedia.org/wiki/%C3%89cole_sup%C3%A9rieure_des_communications_de_Tunis\n",
            "Enter the destination directory :/content/Images\n",
            "Images successfully saved in the destination directory\n"
          ]
        }
      ]
    },
    {
      "cell_type": "code",
      "source": [],
      "metadata": {
        "id": "oBYcTAKmKgwz"
      },
      "execution_count": null,
      "outputs": []
    }
  ]
}